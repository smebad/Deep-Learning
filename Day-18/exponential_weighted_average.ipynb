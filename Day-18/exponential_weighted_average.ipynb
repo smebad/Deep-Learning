{
 "cells": [
  {
   "cell_type": "code",
   "execution_count": 1,
   "metadata": {},
   "outputs": [],
   "source": [
    "import pandas as pd\n",
    "import numpy as np\n",
    "\n",
    "import matplotlib.pyplot as plt"
   ]
  },
  {
   "cell_type": "code",
   "execution_count": 2,
   "metadata": {},
   "outputs": [],
   "source": [
    "df = pd.read_csv('DailyDelhiClimateTest.csv')"
   ]
  },
  {
   "cell_type": "code",
   "execution_count": 3,
   "metadata": {},
   "outputs": [
    {
     "data": {
      "application/vnd.microsoft.datawrangler.viewer.v0+json": {
       "columns": [
        {
         "name": "index",
         "rawType": "int64",
         "type": "integer"
        },
        {
         "name": "date",
         "rawType": "object",
         "type": "string"
        },
        {
         "name": "meantemp",
         "rawType": "float64",
         "type": "float"
        }
       ],
       "conversionMethod": "pd.DataFrame",
       "ref": "10751c1c-7bcc-4009-8caa-e686b4a310f7",
       "rows": [
        [
         "0",
         "2017-01-01",
         "15.91304347826087"
        ],
        [
         "1",
         "2017-01-02",
         "18.5"
        ],
        [
         "2",
         "2017-01-03",
         "17.11111111111111"
        ],
        [
         "3",
         "2017-01-04",
         "18.7"
        ],
        [
         "4",
         "2017-01-05",
         "18.38888888888889"
        ],
        [
         "5",
         "2017-01-06",
         "19.318181818181817"
        ],
        [
         "6",
         "2017-01-07",
         "14.708333333333334"
        ],
        [
         "7",
         "2017-01-08",
         "15.68421052631579"
        ],
        [
         "8",
         "2017-01-09",
         "14.571428571428571"
        ],
        [
         "9",
         "2017-01-10",
         "12.11111111111111"
        ],
        [
         "10",
         "2017-01-11",
         "11.0"
        ],
        [
         "11",
         "2017-01-12",
         "11.789473684210526"
        ],
        [
         "12",
         "2017-01-13",
         "13.235294117647058"
        ],
        [
         "13",
         "2017-01-14",
         "13.2"
        ],
        [
         "14",
         "2017-01-15",
         "16.434782608695652"
        ],
        [
         "15",
         "2017-01-16",
         "14.65"
        ],
        [
         "16",
         "2017-01-17",
         "11.72222222222222"
        ],
        [
         "17",
         "2017-01-18",
         "13.041666666666666"
        ],
        [
         "18",
         "2017-01-19",
         "14.61904761904762"
        ],
        [
         "19",
         "2017-01-20",
         "15.263157894736842"
        ],
        [
         "20",
         "2017-01-21",
         "15.391304347826088"
        ],
        [
         "21",
         "2017-01-22",
         "18.44"
        ],
        [
         "22",
         "2017-01-23",
         "18.11764705882353"
        ],
        [
         "23",
         "2017-01-24",
         "18.347826086956523"
        ],
        [
         "24",
         "2017-01-25",
         "21.0"
        ],
        [
         "25",
         "2017-01-26",
         "16.178571428571427"
        ],
        [
         "26",
         "2017-01-27",
         "16.5"
        ],
        [
         "27",
         "2017-01-28",
         "14.863636363636363"
        ],
        [
         "28",
         "2017-01-29",
         "15.666666666666666"
        ],
        [
         "29",
         "2017-01-30",
         "16.444444444444443"
        ],
        [
         "30",
         "2017-01-31",
         "16.125"
        ],
        [
         "31",
         "2017-02-01",
         "15.25"
        ],
        [
         "32",
         "2017-02-02",
         "17.09090909090909"
        ],
        [
         "33",
         "2017-02-03",
         "15.636363636363637"
        ],
        [
         "34",
         "2017-02-04",
         "18.7"
        ],
        [
         "35",
         "2017-02-05",
         "18.63157894736842"
        ],
        [
         "36",
         "2017-02-06",
         "16.88888888888889"
        ],
        [
         "37",
         "2017-02-07",
         "15.125"
        ],
        [
         "38",
         "2017-02-08",
         "15.7"
        ],
        [
         "39",
         "2017-02-09",
         "15.375"
        ],
        [
         "40",
         "2017-02-10",
         "14.666666666666666"
        ],
        [
         "41",
         "2017-02-11",
         "15.625"
        ],
        [
         "42",
         "2017-02-12",
         "16.25"
        ],
        [
         "43",
         "2017-02-13",
         "16.333333333333332"
        ],
        [
         "44",
         "2017-02-14",
         "16.875"
        ],
        [
         "45",
         "2017-02-15",
         "17.571428571428573"
        ],
        [
         "46",
         "2017-02-16",
         "20.25"
        ],
        [
         "47",
         "2017-02-17",
         "21.3"
        ],
        [
         "48",
         "2017-02-18",
         "21.125"
        ],
        [
         "49",
         "2017-02-19",
         "22.363636363636363"
        ]
       ],
       "shape": {
        "columns": 2,
        "rows": 114
       }
      },
      "text/html": [
       "<div>\n",
       "<style scoped>\n",
       "    .dataframe tbody tr th:only-of-type {\n",
       "        vertical-align: middle;\n",
       "    }\n",
       "\n",
       "    .dataframe tbody tr th {\n",
       "        vertical-align: top;\n",
       "    }\n",
       "\n",
       "    .dataframe thead th {\n",
       "        text-align: right;\n",
       "    }\n",
       "</style>\n",
       "<table border=\"1\" class=\"dataframe\">\n",
       "  <thead>\n",
       "    <tr style=\"text-align: right;\">\n",
       "      <th></th>\n",
       "      <th>date</th>\n",
       "      <th>meantemp</th>\n",
       "    </tr>\n",
       "  </thead>\n",
       "  <tbody>\n",
       "    <tr>\n",
       "      <th>0</th>\n",
       "      <td>2017-01-01</td>\n",
       "      <td>15.913043</td>\n",
       "    </tr>\n",
       "    <tr>\n",
       "      <th>1</th>\n",
       "      <td>2017-01-02</td>\n",
       "      <td>18.500000</td>\n",
       "    </tr>\n",
       "    <tr>\n",
       "      <th>2</th>\n",
       "      <td>2017-01-03</td>\n",
       "      <td>17.111111</td>\n",
       "    </tr>\n",
       "    <tr>\n",
       "      <th>3</th>\n",
       "      <td>2017-01-04</td>\n",
       "      <td>18.700000</td>\n",
       "    </tr>\n",
       "    <tr>\n",
       "      <th>4</th>\n",
       "      <td>2017-01-05</td>\n",
       "      <td>18.388889</td>\n",
       "    </tr>\n",
       "    <tr>\n",
       "      <th>...</th>\n",
       "      <td>...</td>\n",
       "      <td>...</td>\n",
       "    </tr>\n",
       "    <tr>\n",
       "      <th>109</th>\n",
       "      <td>2017-04-20</td>\n",
       "      <td>34.500000</td>\n",
       "    </tr>\n",
       "    <tr>\n",
       "      <th>110</th>\n",
       "      <td>2017-04-21</td>\n",
       "      <td>34.250000</td>\n",
       "    </tr>\n",
       "    <tr>\n",
       "      <th>111</th>\n",
       "      <td>2017-04-22</td>\n",
       "      <td>32.900000</td>\n",
       "    </tr>\n",
       "    <tr>\n",
       "      <th>112</th>\n",
       "      <td>2017-04-23</td>\n",
       "      <td>32.875000</td>\n",
       "    </tr>\n",
       "    <tr>\n",
       "      <th>113</th>\n",
       "      <td>2017-04-24</td>\n",
       "      <td>32.000000</td>\n",
       "    </tr>\n",
       "  </tbody>\n",
       "</table>\n",
       "<p>114 rows × 2 columns</p>\n",
       "</div>"
      ],
      "text/plain": [
       "           date   meantemp\n",
       "0    2017-01-01  15.913043\n",
       "1    2017-01-02  18.500000\n",
       "2    2017-01-03  17.111111\n",
       "3    2017-01-04  18.700000\n",
       "4    2017-01-05  18.388889\n",
       "..          ...        ...\n",
       "109  2017-04-20  34.500000\n",
       "110  2017-04-21  34.250000\n",
       "111  2017-04-22  32.900000\n",
       "112  2017-04-23  32.875000\n",
       "113  2017-04-24  32.000000\n",
       "\n",
       "[114 rows x 2 columns]"
      ]
     },
     "execution_count": 3,
     "metadata": {},
     "output_type": "execute_result"
    }
   ],
   "source": [
    "df = df[['date', 'meantemp']]\n",
    "df"
   ]
  },
  {
   "cell_type": "code",
   "execution_count": 4,
   "metadata": {},
   "outputs": [
    {
     "data": {
      "text/plain": [
       "Text(0, 0.5, 'Mean Temperature')"
      ]
     },
     "execution_count": 4,
     "metadata": {},
     "output_type": "execute_result"
    },
    {
     "data": {
      "image/png": "[encoded data removed]",
      "text/plain": [
       "<Figure size 640x480 with 1 Axes>"
      ]
     },
     "metadata": {},
     "output_type": "display_data"
    }
   ],
   "source": [
    "plt.scatter(df['date'], df['meantemp'], color='red')\n",
    "plt.xlabel('Date')\n",
    "plt.ylabel('Mean Temperature')"
   ]
  },
  {
   "cell_type": "code",
   "execution_count": 5,
   "metadata": {},
   "outputs": [
    {
     "data": {
      "text/plain": [
       "0      15.913043\n",
       "1      18.264822\n",
       "2      17.225443\n",
       "3      18.552677\n",
       "4      18.405266\n",
       "         ...    \n",
       "109    34.403401\n",
       "110    34.265340\n",
       "111    33.036534\n",
       "112    32.891153\n",
       "113    32.089115\n",
       "Name: meantemp, Length: 114, dtype: float64"
      ]
     },
     "execution_count": 5,
     "metadata": {},
     "output_type": "execute_result"
    }
   ],
   "source": [
    "x1 = df['meantemp'].ewm(alpha= 0.9).mean()\n",
    "x1 "
   ]
  },
  {
   "cell_type": "code",
   "execution_count": 6,
   "metadata": {},
   "outputs": [
    {
     "data": {
      "application/vnd.microsoft.datawrangler.viewer.v0+json": {
       "columns": [
        {
         "name": "index",
         "rawType": "int64",
         "type": "integer"
        },
        {
         "name": "date",
         "rawType": "object",
         "type": "string"
        },
        {
         "name": "meantemp",
         "rawType": "float64",
         "type": "float"
        },
        {
         "name": "ewm",
         "rawType": "float64",
         "type": "float"
        }
       ],
       "conversionMethod": "pd.DataFrame",
       "ref": "590393f8-9671-4145-bfff-290be21daf8b",
       "rows": [
        [
         "0",
         "2017-01-01",
         "15.91304347826087",
         "15.91304347826087"
        ],
        [
         "1",
         "2017-01-02",
         "18.5",
         "18.26482213438735"
        ],
        [
         "2",
         "2017-01-03",
         "17.11111111111111",
         "17.225442834138484"
        ],
        [
         "3",
         "2017-01-04",
         "18.7",
         "18.552677006831118"
        ],
        [
         "4",
         "2017-01-05",
         "18.38888888888889",
         "18.405266226575307"
        ],
        [
         "5",
         "2017-01-06",
         "19.318181818181817",
         "19.22689108064602"
        ],
        [
         "6",
         "2017-01-07",
         "14.708333333333334",
         "15.160188701394366"
        ],
        [
         "7",
         "2017-01-08",
         "15.68421052631579",
         "15.631808348539844"
        ],
        [
         "8",
         "2017-01-09",
         "14.571428571428571",
         "14.677466548185356"
        ],
        [
         "9",
         "2017-01-10",
         "12.11111111111111",
         "12.367746654587565"
        ],
        [
         "10",
         "2017-01-11",
         "11.0",
         "11.136774665446447"
        ],
        [
         "11",
         "2017-01-12",
         "11.789473684210526",
         "11.724203782334705"
        ],
        [
         "12",
         "2017-01-13",
         "13.235294117647058",
         "13.084185084115958"
        ],
        [
         "13",
         "2017-01-14",
         "13.2",
         "13.188418508411598"
        ],
        [
         "14",
         "2017-01-15",
         "16.434782608695652",
         "16.110146198667252"
        ],
        [
         "15",
         "2017-01-16",
         "14.65",
         "14.796014619866726"
        ],
        [
         "16",
         "2017-01-17",
         "11.72222222222222",
         "12.02960146198667"
        ],
        [
         "17",
         "2017-01-18",
         "13.041666666666666",
         "12.940460146198667"
        ],
        [
         "18",
         "2017-01-19",
         "14.61904761904762",
         "14.451188871762726"
        ],
        [
         "19",
         "2017-01-20",
         "15.263157894736842",
         "15.181960992439432"
        ],
        [
         "20",
         "2017-01-21",
         "15.391304347826088",
         "15.370370012287424"
        ],
        [
         "21",
         "2017-01-22",
         "18.44",
         "18.133037001228743"
        ],
        [
         "22",
         "2017-01-23",
         "18.11764705882353",
         "18.119186053064052"
        ],
        [
         "23",
         "2017-01-24",
         "18.347826086956523",
         "18.324962083567275"
        ],
        [
         "24",
         "2017-01-25",
         "21.0",
         "20.73249620835673"
        ],
        [
         "25",
         "2017-01-26",
         "16.178571428571427",
         "16.63396390654996"
        ],
        [
         "26",
         "2017-01-27",
         "16.5",
         "16.513396390654997"
        ],
        [
         "27",
         "2017-01-28",
         "14.863636363636363",
         "15.028612366338228"
        ],
        [
         "28",
         "2017-01-29",
         "15.666666666666666",
         "15.602861236633823"
        ],
        [
         "29",
         "2017-01-30",
         "16.444444444444443",
         "16.360286123663382"
        ],
        [
         "30",
         "2017-01-31",
         "16.125",
         "16.148528612366338"
        ],
        [
         "31",
         "2017-02-01",
         "15.25",
         "15.339852861236634"
        ],
        [
         "32",
         "2017-02-02",
         "17.09090909090909",
         "16.915803467941846"
        ],
        [
         "33",
         "2017-02-03",
         "15.636363636363637",
         "15.764307619521457"
        ],
        [
         "34",
         "2017-02-04",
         "18.7",
         "18.406430761952144"
        ],
        [
         "35",
         "2017-02-05",
         "18.63157894736842",
         "18.609064128826795"
        ],
        [
         "36",
         "2017-02-06",
         "16.88888888888889",
         "17.06090641288268"
        ],
        [
         "37",
         "2017-02-07",
         "15.125",
         "15.318590641288267"
        ],
        [
         "38",
         "2017-02-08",
         "15.7",
         "15.661859064128826"
        ],
        [
         "39",
         "2017-02-09",
         "15.375",
         "15.403685906412882"
        ],
        [
         "40",
         "2017-02-10",
         "14.666666666666666",
         "14.740368590641287"
        ],
        [
         "41",
         "2017-02-11",
         "15.625",
         "15.53653685906413"
        ],
        [
         "42",
         "2017-02-12",
         "16.25",
         "16.178653685906415"
        ],
        [
         "43",
         "2017-02-13",
         "16.333333333333332",
         "16.31786536859064"
        ],
        [
         "44",
         "2017-02-14",
         "16.875",
         "16.819286536859064"
        ],
        [
         "45",
         "2017-02-15",
         "17.571428571428573",
         "17.496214367971625"
        ],
        [
         "46",
         "2017-02-16",
         "20.25",
         "19.974621436797165"
        ],
        [
         "47",
         "2017-02-17",
         "21.3",
         "21.167462143679717"
        ],
        [
         "48",
         "2017-02-18",
         "21.125",
         "21.12924621436797"
        ],
        [
         "49",
         "2017-02-19",
         "22.363636363636363",
         "22.240197348709525"
        ]
       ],
       "shape": {
        "columns": 3,
        "rows": 114
       }
      },
      "text/html": [
       "<div>\n",
       "<style scoped>\n",
       "    .dataframe tbody tr th:only-of-type {\n",
       "        vertical-align: middle;\n",
       "    }\n",
       "\n",
       "    .dataframe tbody tr th {\n",
       "        vertical-align: top;\n",
       "    }\n",
       "\n",
       "    .dataframe thead th {\n",
       "        text-align: right;\n",
       "    }\n",
       "</style>\n",
       "<table border=\"1\" class=\"dataframe\">\n",
       "  <thead>\n",
       "    <tr style=\"text-align: right;\">\n",
       "      <th></th>\n",
       "      <th>date</th>\n",
       "      <th>meantemp</th>\n",
       "      <th>ewm</th>\n",
       "    </tr>\n",
       "  </thead>\n",
       "  <tbody>\n",
       "    <tr>\n",
       "      <th>0</th>\n",
       "      <td>2017-01-01</td>\n",
       "      <td>15.913043</td>\n",
       "      <td>15.913043</td>\n",
       "    </tr>\n",
       "    <tr>\n",
       "      <th>1</th>\n",
       "      <td>2017-01-02</td>\n",
       "      <td>18.500000</td>\n",
       "      <td>18.264822</td>\n",
       "    </tr>\n",
       "    <tr>\n",
       "      <th>2</th>\n",
       "      <td>2017-01-03</td>\n",
       "      <td>17.111111</td>\n",
       "      <td>17.225443</td>\n",
       "    </tr>\n",
       "    <tr>\n",
       "      <th>3</th>\n",
       "      <td>2017-01-04</td>\n",
       "      <td>18.700000</td>\n",
       "      <td>18.552677</td>\n",
       "    </tr>\n",
       "    <tr>\n",
       "      <th>4</th>\n",
       "      <td>2017-01-05</td>\n",
       "      <td>18.388889</td>\n",
       "      <td>18.405266</td>\n",
       "    </tr>\n",
       "    <tr>\n",
       "      <th>...</th>\n",
       "      <td>...</td>\n",
       "      <td>...</td>\n",
       "      <td>...</td>\n",
       "    </tr>\n",
       "    <tr>\n",
       "      <th>109</th>\n",
       "      <td>2017-04-20</td>\n",
       "      <td>34.500000</td>\n",
       "      <td>34.403401</td>\n",
       "    </tr>\n",
       "    <tr>\n",
       "      <th>110</th>\n",
       "      <td>2017-04-21</td>\n",
       "      <td>34.250000</td>\n",
       "      <td>34.265340</td>\n",
       "    </tr>\n",
       "    <tr>\n",
       "      <th>111</th>\n",
       "      <td>2017-04-22</td>\n",
       "      <td>32.900000</td>\n",
       "      <td>33.036534</td>\n",
       "    </tr>\n",
       "    <tr>\n",
       "      <th>112</th>\n",
       "      <td>2017-04-23</td>\n",
       "      <td>32.875000</td>\n",
       "      <td>32.891153</td>\n",
       "    </tr>\n",
       "    <tr>\n",
       "      <th>113</th>\n",
       "      <td>2017-04-24</td>\n",
       "      <td>32.000000</td>\n",
       "      <td>32.089115</td>\n",
       "    </tr>\n",
       "  </tbody>\n",
       "</table>\n",
       "<p>114 rows × 3 columns</p>\n",
       "</div>"
      ],
      "text/plain": [
       "           date   meantemp        ewm\n",
       "0    2017-01-01  15.913043  15.913043\n",
       "1    2017-01-02  18.500000  18.264822\n",
       "2    2017-01-03  17.111111  17.225443\n",
       "3    2017-01-04  18.700000  18.552677\n",
       "4    2017-01-05  18.388889  18.405266\n",
       "..          ...        ...        ...\n",
       "109  2017-04-20  34.500000  34.403401\n",
       "110  2017-04-21  34.250000  34.265340\n",
       "111  2017-04-22  32.900000  33.036534\n",
       "112  2017-04-23  32.875000  32.891153\n",
       "113  2017-04-24  32.000000  32.089115\n",
       "\n",
       "[114 rows x 3 columns]"
      ]
     },
     "execution_count": 6,
     "metadata": {},
     "output_type": "execute_result"
    }
   ],
   "source": [
    "df[\"ewm\"] = x1\n",
    "df"
   ]
  },
  {
   "cell_type": "code",
   "execution_count": 7,
   "metadata": {},
   "outputs": [
    {
     "data": {
      "text/plain": [
       "<matplotlib.legend.Legend at 0x1d08eb13e90>"
      ]
     },
     "execution_count": 7,
     "metadata": {},
     "output_type": "execute_result"
    },
    {
     "data": {
      "image/png": "[encoded data removed]",
      "text/plain": [
       "<Figure size 640x480 with 1 Axes>"
      ]
     },
     "metadata": {},
     "output_type": "display_data"
    }
   ],
   "source": [
    "plt.scatter(df['date'], df['meantemp'], color='red')\n",
    "plt.plot(df['date'], x1, color='blue', label='alpha=0.9')\n",
    "plt.xlabel('Date')\n",
    "plt.ylabel('Mean Temperature')\n",
    "plt.legend()\n"
   ]
  }
 ],
 "metadata": {
  "kernelspec": {
   "display_name": "TF_env",
   "language": "python",
   "name": "python3"
  },
  "language_info": {
   "codemirror_mode": {
    "name": "ipython",
    "version": 3
   },
   "file_extension": ".py",
   "mimetype": "text/x-python",
   "name": "python",
   "nbconvert_exporter": "python",
   "pygments_lexer": "ipython3",
   "version": "3.11.9"
  }
 },
 "nbformat": 4,
 "nbformat_minor": 2
}
